{
  "nbformat": 4,
  "nbformat_minor": 0,
  "metadata": {
    "colab": {
      "name": "DSA_Assignment.ipynb",
      "provenance": []
    },
    "kernelspec": {
      "name": "python3",
      "display_name": "Python 3"
    },
    "language_info": {
      "name": "python"
    }
  },
  "cells": [
    {
      "cell_type": "code",
      "execution_count": null,
      "metadata": {
        "colab": {
          "base_uri": "https://localhost:8080/"
        },
        "id": "sZWTTkIalYTe",
        "outputId": "7ef9c64b-199e-424b-a2ac-6bc4d3bb7607"
      },
      "outputs": [
        {
          "output_type": "stream",
          "name": "stdout",
          "text": [
            "enter array : 3 4 5 9 7 8\n",
            "enter the num u want to match with sum : 12\n",
            "(3, 9)\n",
            "(4, 8)\n",
            "(5, 7)\n"
          ]
        }
      ],
      "source": [
        "# 1. Write a program to find all pairs of an integer array whose sum is equal to a given number\n",
        "\n",
        "def pair(b,num):\n",
        "    for i in range(len(b)-1):\n",
        "        for j in range (i+1,len(b)):\n",
        "            if b[i]+b[j]==num:\n",
        "                print((b[i],b[j]))\n",
        "                                      \n",
        "b=list(map(int,input('enter array : ').split()))\n",
        "num=int(input('enter the num u want to match with sum : '))\n",
        "res=pair(b,num)\n"
      ]
    },
    {
      "cell_type": "code",
      "source": [
        "# 2. Write a program to reverse an array in place? In place means you cannot create a new array. You have to update the original array\n",
        "def Reverse(a,l):\n",
        "    for i in range (int(l/2)):\n",
        "        c=a[i]\n",
        "        a[i]=a[l-1-i]\n",
        "        a[l-1-i]=c\n",
        "    return a\n",
        "a=list(map(str,input('enter array : ').split()))  # making array of string type   we can do int or any homogeneous type\n",
        "l=len(a)\n",
        "print(f'array is {a}')\n",
        "obj=Reverse(a,l)\n",
        "print(f'reversed array is{obj}')"
      ],
      "metadata": {
        "colab": {
          "base_uri": "https://localhost:8080/"
        },
        "id": "t_RDcfiBwKAu",
        "outputId": "480dd64d-3cb7-4432-e1ab-10244550e6d8"
      },
      "execution_count": null,
      "outputs": [
        {
          "output_type": "stream",
          "name": "stdout",
          "text": [
            "enter array : f o x\n",
            "array is ['f', 'o', 'x']\n",
            "reversed array is['x', 'o', 'f']\n"
          ]
        }
      ]
    },
    {
      "cell_type": "code",
      "source": [
        "# 3. Write a program to check if two strings are a rotation of each other\n",
        "\n",
        "class Stack():\n",
        "    def __init__(self,limit):\n",
        "        self.element=[]\n",
        "        self.limit=limit\n",
        "    def push(self,number):\n",
        "        if len(self.element)==self.limit:\n",
        "            print('Stack is full')\n",
        "        else:\n",
        "            self.element.append(number)\n",
        "    def pop(self):\n",
        "        if len(self.element)==0:\n",
        "            print('stack is empty')\n",
        "        else:\n",
        "            return self.element.pop()\n",
        "    def IsEmpty(self):\n",
        "        if len(self.element)==0:\n",
        "            return True\n",
        "        else:\n",
        "            return False\n",
        "s1=input('enter 1st string : ')\n",
        "s2=input('Enter 2nd String : ')\n",
        "obj=Stack(len(s1))\n",
        "s=''\n",
        "for i in s1:\n",
        "    obj.push(i)\n",
        "while not obj.IsEmpty():\n",
        "    s=s+obj.pop() \n",
        "if s==s2:\n",
        "    print('Two string are rotation of each other')\n",
        "else:\n",
        "    print('Two string are NOT rotation of each other')\n"
      ],
      "metadata": {
        "colab": {
          "base_uri": "https://localhost:8080/"
        },
        "id": "tgZJi84t0UiT",
        "outputId": "1da9c2c2-f704-49a6-de80-5990c31c71fc"
      },
      "execution_count": null,
      "outputs": [
        {
          "output_type": "stream",
          "name": "stdout",
          "text": [
            "enter 1st string : baid\n",
            "Enter 2nd String : diab\n",
            "Two string are rotation of each other\n"
          ]
        }
      ]
    },
    {
      "cell_type": "code",
      "source": [
        "# 4. Write a program to print the first non-repeated character from a string\n",
        "\n",
        "def non_repeat(x):\n",
        "    for i in range(len(x)):\n",
        "        s=0\n",
        "        for j in range(len(x)):\n",
        "            if x[i]==x[j]:\n",
        "                s+=1\n",
        "        if s==1:\n",
        "            return x[i]\n",
        "            break\n",
        "    if s>1:\n",
        "        return 'No element found'\n",
        "p=input('Enter a string : ')\n",
        "str=non_repeat(p)\n",
        "print(str)"
      ],
      "metadata": {
        "colab": {
          "base_uri": "https://localhost:8080/"
        },
        "id": "Wvy6L8gkDQy9",
        "outputId": "e456dd98-348d-4816-ce7d-832ddf2adcb7"
      },
      "execution_count": null,
      "outputs": [
        {
          "output_type": "stream",
          "name": "stdout",
          "text": [
            "Enter a string : sssddddqq\n",
            "No element found\n"
          ]
        }
      ]
    },
    {
      "cell_type": "code",
      "source": [
        "# 5. Read about the Tower of Hanoi algorithm. Write a program to implement it.\n",
        "\n",
        "def tower_of_hanoi(disks, source, auxiliary, target):  \n",
        "    if(disks == 1):  \n",
        "        print('Move disk 1 from rod {} to rod {}.'.format(source, target))  \n",
        "        return  \n",
        "    tower_of_hanoi(disks - 1, source, target, auxiliary)  \n",
        "    print('Move disk {} from rod {} to rod {}.'.format(disks, source, target))  \n",
        "    tower_of_hanoi(disks - 1, auxiliary, source, target)  \n",
        "  \n",
        "disks = int(input('Enter the number of disks: '))    \n",
        "tower_of_hanoi(disks, 'A', 'B', 'C')  "
      ],
      "metadata": {
        "colab": {
          "base_uri": "https://localhost:8080/"
        },
        "id": "VRTYgpeBQ2xF",
        "outputId": "e177820b-7dcd-4e59-c999-406685b6b1ff"
      },
      "execution_count": 11,
      "outputs": [
        {
          "output_type": "stream",
          "name": "stdout",
          "text": [
            "Enter the number of disks: 4\n",
            "Move disk 1 from rod A to rod B.\n",
            "Move disk 2 from rod A to rod C.\n",
            "Move disk 1 from rod B to rod C.\n",
            "Move disk 3 from rod A to rod B.\n",
            "Move disk 1 from rod C to rod A.\n",
            "Move disk 2 from rod C to rod B.\n",
            "Move disk 1 from rod A to rod B.\n",
            "Move disk 4 from rod A to rod C.\n",
            "Move disk 1 from rod B to rod C.\n",
            "Move disk 2 from rod B to rod A.\n",
            "Move disk 1 from rod C to rod A.\n",
            "Move disk 3 from rod B to rod C.\n",
            "Move disk 1 from rod A to rod B.\n",
            "Move disk 2 from rod A to rod C.\n",
            "Move disk 1 from rod B to rod C.\n"
          ]
        }
      ]
    },
    {
      "cell_type": "code",
      "source": [
        "# 6. Read about infix, prefix, and postfix expressions. Write a program to convert postfix to prefix expression.6. Read about infix, prefix, and postfix expressions. Write a program to convert postfix to prefix expression.\n",
        "\n",
        "class Stack():\n",
        "    def __init__(self,limit):\n",
        "        self.element=[]\n",
        "        self.limit=limit\n",
        "    def push(self,number):\n",
        "        if len(self.element)==self.limit:\n",
        "            print('Stack is full')\n",
        "        else:\n",
        "            self.element.append(number)\n",
        "    def pop(self):\n",
        "        if len(self.element)==0:\n",
        "            print('stack is empty')\n",
        "        else:\n",
        "            return self.element.pop()\n",
        "s1=input('enter the post fix expression : ')\n",
        "st=Stack(len(s1))\n",
        "l=['+','-','/','*']\n",
        "for i in s1:\n",
        "\tif i.isalpha():\n",
        "\t\tst.push(i)\n",
        "\telif i in l:\n",
        "\t\tx=st.pop()\n",
        "\t\ty=st.pop()\n",
        "\t\ti=i+y+x\n",
        "\t\tst.push(i)\n",
        "print(st.pop())\n"
      ],
      "metadata": {
        "colab": {
          "base_uri": "https://localhost:8080/"
        },
        "id": "Ki8B280zjCOs",
        "outputId": "3392445b-cc21-4582-b0fd-4755bf64b375"
      },
      "execution_count": null,
      "outputs": [
        {
          "output_type": "stream",
          "name": "stdout",
          "text": [
            "enter the post fix expression : ab+c*de-fg+*-\n",
            "-*+abc*-de+fg\n"
          ]
        }
      ]
    },
    {
      "cell_type": "code",
      "source": [
        "# 7. Write a program to convert prefix expression to infix expression.\n",
        "\n",
        "class Stack():\n",
        "    def __init__(self,limit):\n",
        "        self.element=[]\n",
        "        self.limit=limit\n",
        "    def push(self,number):\n",
        "        if len(self.element)==self.limit:\n",
        "            print('Stack is full')\n",
        "        else:\n",
        "            self.element.append(number)\n",
        "    def pop(self):\n",
        "        if len(self.element)==0:\n",
        "            print('stack is empty')\n",
        "        else:\n",
        "            return self.element.pop()\n",
        "s1=input('enter the pre fix expression : ')\n",
        "st=Stack(len(s1))\n",
        "l=['+','-','/','*']\n",
        "for i in range(len(s1)-1,-1,-1):\n",
        "    if s1[i].isalpha():\n",
        "        st.push(s1[i])\n",
        "    elif s1[i] in l:\n",
        "        a=st.pop()\n",
        "        b=st.pop()\n",
        "        z=a+s1[i]+b\n",
        "        st.push(z)\n",
        "print(st.pop())"
      ],
      "metadata": {
        "colab": {
          "base_uri": "https://localhost:8080/"
        },
        "id": "DMzf8jfoUziA",
        "outputId": "fc198766-e2f8-4b68-e91e-d1e90230c452"
      },
      "execution_count": null,
      "outputs": [
        {
          "output_type": "stream",
          "name": "stdout",
          "text": [
            "enter the pre fix expression : -*+abc*-de+fg\n",
            "a+b*c-d-e*f+g\n"
          ]
        }
      ]
    },
    {
      "cell_type": "code",
      "source": [
        "# 8. Write a program to check if all the brackets are closed in a given code snippet.\n",
        "\n",
        "class Stack():\n",
        "    def __init__(self,limit):\n",
        "        self.element=[]\n",
        "        self.limit=limit\n",
        "    def push(self,number):\n",
        "        if len(self.element)==self.limit:\n",
        "            print('Stack is full')\n",
        "        else:\n",
        "            self.element.append(number)\n",
        "    def pop(self):\n",
        "        if len(self.element)==0:\n",
        "            print('stack is empty')\n",
        "        else:\n",
        "            return self.element.pop()\n",
        "    def peek(self):\n",
        "        if len(self.element)==0:\n",
        "            print('The stack is empty')\n",
        "        else:\n",
        "            return self.element[-1]\n",
        "    def isEmpty(self):\n",
        "        if len(self.element)== 0:\n",
        "            return True\n",
        "        else:\n",
        "            return False\n",
        "    def print_stack(self):\n",
        "        print('\\n---------------- Current stack values ------------------\\n')\n",
        "        for item in self.element:\n",
        "            print(item,end=' ')\n",
        "s1=input('enter the code : ')\n",
        "obj=Stack(len(s1))\n",
        "a=['[','{','(']\n",
        "dict={']':'[','}':'{',')':'('}\n",
        "for i in s1:\n",
        "    if i in a:\n",
        "        obj.push(i)\n",
        "    elif i in dict:\n",
        "        if obj.peek()==dict.get(i):\n",
        "            obj.pop()\n",
        "if obj.isEmpty():\n",
        "    print('Brackets are closed')\n",
        "else:\n",
        "    obj.print_stack()\n",
        "    print('Brackets are NOT closed according to rule')\n"
      ],
      "metadata": {
        "colab": {
          "base_uri": "https://localhost:8080/"
        },
        "id": "c_R6DlFVbR4N",
        "outputId": "345dc91f-5135-4ea6-b4d0-fb88ffa7da47"
      },
      "execution_count": null,
      "outputs": [
        {
          "output_type": "stream",
          "name": "stdout",
          "text": [
            "enter the code : [{()}[]]\n",
            "Brackets are closed\n"
          ]
        }
      ]
    },
    {
      "cell_type": "code",
      "source": [
        "# 9. Write a program to reverse a stack\n",
        "\n",
        "class Stack():\n",
        "    def __init__(self,limit):\n",
        "        self.element=[]\n",
        "        self.limit=limit\n",
        "    def push(self,number):\n",
        "        if len(self.element)==self.limit:\n",
        "            print('Stack is full')\n",
        "        else:\n",
        "            self.element.append(number)\n",
        "    def pop(self):\n",
        "        if len(self.element)==0:\n",
        "            print('stack is empty')\n",
        "        else:\n",
        "            return self.element.pop()\n",
        "    def peek(self):\n",
        "        if len(self.element)==0:\n",
        "            print('stack is empty')\n",
        "        else:\n",
        "            print(f'peek elemt of stack is {self.element[-1]}')\n",
        "    def IsEmpty(self):\n",
        "        if len(self.element)==0:\n",
        "            return True\n",
        "        else:\n",
        "            return False\n",
        "    def IsFull(self):\n",
        "        if len(self.element)==self.limit:\n",
        "            return True\n",
        "        else:\n",
        "            return False\n",
        "    def delete(self):\n",
        "        if len(self.element)==0:\n",
        "            print('stack is empty')\n",
        "        else:\n",
        "            self.element=[]\n",
        "    def print_stack(self):\n",
        "        for i in self.element:\n",
        "            print(i,end=' ')\n",
        "\n",
        "s1=list(input('Enter a string : '))\n",
        "obj=Stack(len(s1))\n",
        "obj2=Stack(len(s1))\n",
        "for i in s1:\n",
        "    obj.push(i)\n",
        "while not obj.IsEmpty():\n",
        "    obj2.push(obj.pop())\n",
        "obj2.print_stack()\n",
        "\n"
      ],
      "metadata": {
        "id": "RONsepHGn-yD",
        "colab": {
          "base_uri": "https://localhost:8080/"
        },
        "outputId": "e6559d16-be46-45f2-ebfe-b64ca204b9c1"
      },
      "execution_count": 3,
      "outputs": [
        {
          "output_type": "stream",
          "name": "stdout",
          "text": [
            "Enter a string : boom\n",
            "m o o b "
          ]
        }
      ]
    },
    {
      "cell_type": "code",
      "source": [
        "# 10. Write a program to find the smallest number using a stack\n",
        "\n",
        "from collections import deque\n",
        "class MinStack:\n",
        "    def __init__(self):\n",
        "        # main stack to store elements\n",
        "        self.s = deque()\n",
        "        # variable to store the minimum element\n",
        "        self.min = None\n",
        " \n",
        "    # Inserts a given element on top of the stack\n",
        "    def push(self, val):\n",
        "        if not self.s:\n",
        "            self.s.append(val)\n",
        "            self.min = val\n",
        "        elif val > self.min:\n",
        "            self.s.append(val)\n",
        "        else:\n",
        "            self.s.append(2*val - self.min)\n",
        "            self.min = val\n",
        " \n",
        "    # Removes the top element from the stack\n",
        "    def pop(self):\n",
        "        if not self.s:\n",
        "            self.print('Stack underflow!!')\n",
        "            exit(-1)\n",
        "        top = self.s[-1]\n",
        "        if top < self.min:\n",
        "            self.min = 2*self.min - top\n",
        "        self.s.pop()\n",
        " \n",
        "    # Returns the minimum element from the stack in constant time\n",
        "    def getMin(self):\n",
        "        return self.min\n",
        " \n",
        "if __name__ == '__main__':\n",
        " \n",
        "    s = MinStack()\n",
        " \n",
        "    s.push(6)\n",
        "    print(s.getMin())\n",
        " \n",
        "    s.push(7)\n",
        "    print(s.getMin())\n",
        " \n",
        "    s.push(5)\n",
        "    print(s.getMin())\n",
        " \n",
        "    s.push(3)\n",
        "    print(s.getMin())\n",
        " \n",
        "    s.pop()\n",
        "    print(s.getMin())\n",
        " \n",
        "    s.pop()\n",
        "    print(s.getMin())\n"
      ],
      "metadata": {
        "id": "nTeLDcQLoD2r",
        "colab": {
          "base_uri": "https://localhost:8080/"
        },
        "outputId": "463bbe54-3d4c-404a-eda3-871d75d15184"
      },
      "execution_count": 10,
      "outputs": [
        {
          "output_type": "stream",
          "name": "stdout",
          "text": [
            "6\n",
            "6\n",
            "5\n",
            "3\n",
            "5\n",
            "6\n"
          ]
        }
      ]
    }
  ]
}